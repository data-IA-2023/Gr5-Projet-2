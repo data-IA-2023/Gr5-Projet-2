{
 "cells": [
  {
   "cell_type": "markdown",
   "metadata": {},
   "source": [
    "Projet 2: Clément et Paolo\n",
    "\n"
   ]
  },
  {
   "cell_type": "markdown",
   "metadata": {},
   "source": [
    "Chargé la base des donées "
   ]
  },
  {
   "cell_type": "code",
   "execution_count": 57,
   "metadata": {},
   "outputs": [
    {
     "data": {
      "text/html": [
       "<div>\n",
       "<style scoped>\n",
       "    .dataframe tbody tr th:only-of-type {\n",
       "        vertical-align: middle;\n",
       "    }\n",
       "\n",
       "    .dataframe tbody tr th {\n",
       "        vertical-align: top;\n",
       "    }\n",
       "\n",
       "    .dataframe thead th {\n",
       "        text-align: right;\n",
       "    }\n",
       "</style>\n",
       "<table border=\"1\" class=\"dataframe\">\n",
       "  <thead>\n",
       "    <tr style=\"text-align: right;\">\n",
       "      <th></th>\n",
       "      <th>flag</th>\n",
       "      <th>text</th>\n",
       "    </tr>\n",
       "  </thead>\n",
       "  <tbody>\n",
       "    <tr>\n",
       "      <th>0</th>\n",
       "      <td>ham</td>\n",
       "      <td>Go until jurong point, crazy.. Available only ...</td>\n",
       "    </tr>\n",
       "    <tr>\n",
       "      <th>1</th>\n",
       "      <td>ham</td>\n",
       "      <td>Ok lar... Joking wif u oni...</td>\n",
       "    </tr>\n",
       "    <tr>\n",
       "      <th>2</th>\n",
       "      <td>spam</td>\n",
       "      <td>Free entry in 2 a wkly comp to win FA Cup fina...</td>\n",
       "    </tr>\n",
       "    <tr>\n",
       "      <th>3</th>\n",
       "      <td>ham</td>\n",
       "      <td>U dun say so early hor... U c already then say...</td>\n",
       "    </tr>\n",
       "    <tr>\n",
       "      <th>4</th>\n",
       "      <td>ham</td>\n",
       "      <td>Nah I don't think he goes to usf, he lives aro...</td>\n",
       "    </tr>\n",
       "    <tr>\n",
       "      <th>...</th>\n",
       "      <td>...</td>\n",
       "      <td>...</td>\n",
       "    </tr>\n",
       "    <tr>\n",
       "      <th>5567</th>\n",
       "      <td>spam</td>\n",
       "      <td>This is the 2nd time we have tried 2 contact u...</td>\n",
       "    </tr>\n",
       "    <tr>\n",
       "      <th>5568</th>\n",
       "      <td>ham</td>\n",
       "      <td>Will ü b going to esplanade fr home?</td>\n",
       "    </tr>\n",
       "    <tr>\n",
       "      <th>5569</th>\n",
       "      <td>ham</td>\n",
       "      <td>Pity, * was in mood for that. So...any other s...</td>\n",
       "    </tr>\n",
       "    <tr>\n",
       "      <th>5570</th>\n",
       "      <td>ham</td>\n",
       "      <td>The guy did some bitching but I acted like i'd...</td>\n",
       "    </tr>\n",
       "    <tr>\n",
       "      <th>5571</th>\n",
       "      <td>ham</td>\n",
       "      <td>Rofl. Its true to its name</td>\n",
       "    </tr>\n",
       "  </tbody>\n",
       "</table>\n",
       "<p>5572 rows × 2 columns</p>\n",
       "</div>"
      ],
      "text/plain": [
       "      flag                                               text\n",
       "0      ham  Go until jurong point, crazy.. Available only ...\n",
       "1      ham                      Ok lar... Joking wif u oni...\n",
       "2     spam  Free entry in 2 a wkly comp to win FA Cup fina...\n",
       "3      ham  U dun say so early hor... U c already then say...\n",
       "4      ham  Nah I don't think he goes to usf, he lives aro...\n",
       "...    ...                                                ...\n",
       "5567  spam  This is the 2nd time we have tried 2 contact u...\n",
       "5568   ham               Will ü b going to esplanade fr home?\n",
       "5569   ham  Pity, * was in mood for that. So...any other s...\n",
       "5570   ham  The guy did some bitching but I acted like i'd...\n",
       "5571   ham                         Rofl. Its true to its name\n",
       "\n",
       "[5572 rows x 2 columns]"
      ]
     },
     "execution_count": 57,
     "metadata": {},
     "output_type": "execute_result"
    }
   ],
   "source": [
    "import pandas as pd\n",
    "import re\n",
    "path = \"https://raw.githubusercontent.com/remijul/dataset/master/SMSSpamCollection\"\n",
    "data = pd.read_csv(path, header=None, sep='\\t')\n",
    "data.rename(columns={0:'flag', 1:'text'}, inplace=True)\n",
    "data\n"
   ]
  },
  {
   "cell_type": "markdown",
   "metadata": {},
   "source": [
    "On crée le BOG (bag of things) que tiendra toutes le differents mots"
   ]
  },
  {
   "cell_type": "code",
   "execution_count": null,
   "metadata": {},
   "outputs": [],
   "source": [
    "bog = data['flag'].str.cat(sep = \" \") #la combinaison de toutes les strings des mails\n",
    "bog = list(set(re.split(r\"\\W+\",bog)))"
   ]
  },
  {
   "cell_type": "markdown",
   "metadata": {},
   "source": [
    "Selection de target"
   ]
  },
  {
   "cell_type": "code",
   "execution_count": 1,
   "metadata": {},
   "outputs": [
    {
     "name": "stdout",
     "output_type": "stream",
     "text": [
      "MAE with Count Vectorizer et Logistic Regression: 0.9774339136041263\n"
     ]
    },
    {
     "data": {
      "text/plain": [
       "' X = vectorizerCV.fit_transform(corpus)\\ny = data[\\'flag\\']\\nX_train, X_test, y_train, y_test = train_test_split(X, y, test_size=0.3, random_state= 3)\\nmodel = KNeighborsClassifier(3)\\nmodel.fit(X_train,y_train)\\ny_predCV = model.predict(X_test)\\nprint(\"MAE with Count Vectorizer et KNN:\", accuracy_score(y_test, y_predCV)) \\n\\nX = vectorizerCV.fit_transform(corpus)\\ny = data[\\'flag\\']\\nX_train, X_test, y_train, y_test = train_test_split(X, y, test_size=0.3, random_state= 3)\\nmodel = LogisticRegression(random_state=5)\\nmodel.fit(X_train,y_train)\\ny_predCV = model.predict(X_test)\\nprint(\"MAE with Count Vectorizer et Logistic Regression:\", accuracy_score(y_test, y_predCV))\\n\\nvectorizertf = TfidfVectorizer()\\nX = vectorizertf.fit_transform(corpus)\\ny = data[\\'flag\\']\\nX_train, X_test, y_train, y_test = train_test_split(X, y, test_size=0.3, random_state= 3)\\nmodel = KNeighborsClassifier(3)\\nmodel.fit(X_train,y_train)\\ny_predtf = model.predict(X_test)\\nprint(\"MAE with TF-IDF et KNN:\", accuracy_score(y_test, y_predtf))\\n\\nX = vectorizertf.fit_transform(corpus)\\ny = data[\\'flag\\']\\nX_train, X_test, y_train, y_test = train_test_split(X, y, test_size=0.3, random_state= 3)\\nmodel = LogisticRegression(random_state=5)\\nmodel.fit(X_train,y_train)\\ny_predtf = model.predict(X_test)\\nprint(\"MAE with TF-IDF Logistic Regression:\", accuracy_score(y_test, y_predtf)) '"
      ]
     },
     "execution_count": 1,
     "metadata": {},
     "output_type": "execute_result"
    }
   ],
   "source": [
    "import pandas as pd\n",
    "from sklearn.model_selection import train_test_split\n",
    "from sklearn.neighbors import KNeighborsClassifier\n",
    "from sklearn.metrics import accuracy_score\n",
    "from sklearn.feature_extraction.text import TfidfVectorizer,CountVectorizer\n",
    "from sklearn.linear_model import LogisticRegression\n",
    "from sklearn.pipeline import Pipeline\n",
    "\n",
    "#preprocessing\n",
    "path = \"https://raw.githubusercontent.com/remijul/dataset/master/SMSSpamCollection\"\n",
    "data = pd.read_csv(path, names = [\"flag\", \"text\"], sep='\\t')\n",
    "data.dropna(inplace=True)\n",
    "data.drop_duplicates(inplace = True)\n",
    "\n",
    "#agroupement de encodage et modelisation\n",
    "pipe = Pipeline(steps=[\n",
    "                       ('vectorization', CountVectorizer()),\n",
    "                       ('modelisation', LogisticRegression())\n",
    "                       ])\n",
    "\n",
    "#corpus = data[\"text\"]\n",
    "X =data[\"text\"]\n",
    "y = data[\"flag\"]\n",
    "X_train, X_test, y_train, y_test = train_test_split(X, y, test_size=0.3, random_state= 3)\n",
    "pipe.fit(X_train,y_train)\n",
    "y_pred = pipe.predict(X_test)\n",
    "print(\"MAE with Count Vectorizer et Logistic Regression:\", accuracy_score(y_test, y_pred))\n",
    "\n",
    "\n",
    "\n",
    "\"\"\" X = vectorizerCV.fit_transform(corpus)\n",
    "y = data['flag']\n",
    "X_train, X_test, y_train, y_test = train_test_split(X, y, test_size=0.3, random_state= 3)\n",
    "model = KNeighborsClassifier(3)\n",
    "model.fit(X_train,y_train)\n",
    "y_predCV = model.predict(X_test)\n",
    "print(\"MAE with Count Vectorizer et KNN:\", accuracy_score(y_test, y_predCV)) \n",
    "\n",
    "X = vectorizerCV.fit_transform(corpus)\n",
    "y = data['flag']\n",
    "X_train, X_test, y_train, y_test = train_test_split(X, y, test_size=0.3, random_state= 3)\n",
    "model = LogisticRegression(random_state=5)\n",
    "model.fit(X_train,y_train)\n",
    "y_predCV = model.predict(X_test)\n",
    "print(\"MAE with Count Vectorizer et Logistic Regression:\", accuracy_score(y_test, y_predCV))\n",
    "\n",
    "vectorizertf = TfidfVectorizer()\n",
    "X = vectorizertf.fit_transform(corpus)\n",
    "y = data['flag']\n",
    "X_train, X_test, y_train, y_test = train_test_split(X, y, test_size=0.3, random_state= 3)\n",
    "model = KNeighborsClassifier(3)\n",
    "model.fit(X_train,y_train)\n",
    "y_predtf = model.predict(X_test)\n",
    "print(\"MAE with TF-IDF et KNN:\", accuracy_score(y_test, y_predtf))\n",
    "\n",
    "X = vectorizertf.fit_transform(corpus)\n",
    "y = data['flag']\n",
    "X_train, X_test, y_train, y_test = train_test_split(X, y, test_size=0.3, random_state= 3)\n",
    "model = LogisticRegression(random_state=5)\n",
    "model.fit(X_train,y_train)\n",
    "y_predtf = model.predict(X_test)\n",
    "print(\"MAE with TF-IDF Logistic Regression:\", accuracy_score(y_test, y_predtf)) \"\"\"\n"
   ]
  }
 ],
 "metadata": {
  "kernelspec": {
   "display_name": "Python 3",
   "language": "python",
   "name": "python3"
  },
  "language_info": {
   "codemirror_mode": {
    "name": "ipython",
    "version": 3
   },
   "file_extension": ".py",
   "mimetype": "text/x-python",
   "name": "python",
   "nbconvert_exporter": "python",
   "pygments_lexer": "ipython3",
   "version": "3.12.0"
  }
 },
 "nbformat": 4,
 "nbformat_minor": 2
}
